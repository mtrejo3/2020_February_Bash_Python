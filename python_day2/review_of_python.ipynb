{
 "cells": [
  {
   "cell_type": "markdown",
   "metadata": {},
   "source": [
    "# Day 2 Python"
   ]
  },
  {
   "cell_type": "code",
   "execution_count": 1,
   "metadata": {},
   "outputs": [],
   "source": [
    "# can toggle line numbers on and off with esc+l or with just l when box is blue\n",
    "groceries = ['banana', 'bread', 'cheese'] #create list of strings in variable called groceries"
   ]
  },
  {
   "cell_type": "code",
   "execution_count": 2,
   "metadata": {},
   "outputs": [
    {
     "name": "stdout",
     "output_type": "stream",
     "text": [
      "['banana', 'bread', 'cheese']\n"
     ]
    }
   ],
   "source": [
    "#print list of strings\n",
    "print(groceries)"
   ]
  },
  {
   "cell_type": "code",
   "execution_count": 3,
   "metadata": {},
   "outputs": [],
   "source": [
    "#create a list of integers called temperature\n",
    "temperature = [50,65,120]"
   ]
  },
  {
   "cell_type": "code",
   "execution_count": 4,
   "metadata": {},
   "outputs": [
    {
     "name": "stdout",
     "output_type": "stream",
     "text": [
      "[50, 65, 120]\n"
     ]
    }
   ],
   "source": [
    "#print list of integers\n",
    "print(temperature)"
   ]
  },
  {
   "cell_type": "code",
   "execution_count": 8,
   "metadata": {},
   "outputs": [
    {
     "data": {
      "text/plain": [
       "'banana'"
      ]
     },
     "execution_count": 8,
     "metadata": {},
     "output_type": "execute_result"
    }
   ],
   "source": [
    "#to access a particular item in a list we use an index\n",
    "groceries[0]"
   ]
  },
  {
   "cell_type": "code",
   "execution_count": 9,
   "metadata": {},
   "outputs": [
    {
     "data": {
      "text/plain": [
       "'bread'"
      ]
     },
     "execution_count": 9,
     "metadata": {},
     "output_type": "execute_result"
    }
   ],
   "source": [
    "groceries[1]"
   ]
  },
  {
   "cell_type": "code",
   "execution_count": 11,
   "metadata": {},
   "outputs": [
    {
     "data": {
      "text/plain": [
       "120"
      ]
     },
     "execution_count": 11,
     "metadata": {},
     "output_type": "execute_result"
    }
   ],
   "source": [
    "temperature[2]"
   ]
  },
  {
   "cell_type": "code",
   "execution_count": 12,
   "metadata": {},
   "outputs": [],
   "source": [
    "# we can modify things in list\n",
    "groceries [1]= 'lettuce'"
   ]
  },
  {
   "cell_type": "code",
   "execution_count": 13,
   "metadata": {},
   "outputs": [
    {
     "name": "stdout",
     "output_type": "stream",
     "text": [
      "['banana', 'lettuce', 'cheese']\n"
     ]
    }
   ],
   "source": [
    "#bread is no longer in our list\n",
    "print(groceries)"
   ]
  },
  {
   "cell_type": "code",
   "execution_count": 17,
   "metadata": {},
   "outputs": [
    {
     "name": "stdout",
     "output_type": "stream",
     "text": [
      "{'Tyler', 'Anna', 'James'}\n"
     ]
    }
   ],
   "source": [
    "#to create sets - only shows unique names, no duplicates\n",
    "names=set()\n",
    "names.add('James')\n",
    "names.add('Anna')\n",
    "names.add('Tyler')\n",
    "names.add('James')\n",
    "names.add('Anna')\n",
    "print(names)"
   ]
  },
  {
   "cell_type": "code",
   "execution_count": 18,
   "metadata": {},
   "outputs": [
    {
     "name": "stdout",
     "output_type": "stream",
     "text": [
      "{'Tyler', 'Anna', 'James'}\n"
     ]
    }
   ],
   "source": [
    "#another way of doing sets\n",
    "names={'James','Anna','Tyler','James','Anna'}\n",
    "print(names)"
   ]
  },
  {
   "cell_type": "code",
   "execution_count": 21,
   "metadata": {},
   "outputs": [
    {
     "name": "stdout",
     "output_type": "stream",
     "text": [
      "3.23\n",
      "<class 'float'>\n",
      "10000000000.0\n",
      "<class 'float'>\n"
     ]
    }
   ],
   "source": [
    "#creating floats\n",
    "a=3.23\n",
    "b=1e10"
   ]
  },
  {
   "cell_type": "code",
   "execution_count": null,
   "metadata": {},
   "outputs": [],
   "source": [
    "print(a)\n",
    "print(type(a))\n",
    "print(b)\n",
    "print(type(b))"
   ]
  },
  {
   "cell_type": "markdown",
   "metadata": {},
   "source": [
    "## Dictionary\n",
    "\n",
    "variable_name = {key : value}"
   ]
  },
  {
   "cell_type": "code",
   "execution_count": 22,
   "metadata": {},
   "outputs": [],
   "source": [
    "data = {'rainfall_inches' : 1.34, 'temperature_F':80}"
   ]
  },
  {
   "cell_type": "code",
   "execution_count": 23,
   "metadata": {},
   "outputs": [
    {
     "name": "stdout",
     "output_type": "stream",
     "text": [
      "{'rainfall_inches': 1.34, 'temperature_psi': 80}\n"
     ]
    }
   ],
   "source": [
    "print(data)"
   ]
  },
  {
   "cell_type": "code",
   "execution_count": 24,
   "metadata": {},
   "outputs": [
    {
     "data": {
      "text/plain": [
       "dict"
      ]
     },
     "execution_count": 24,
     "metadata": {},
     "output_type": "execute_result"
    }
   ],
   "source": [
    "type(data)"
   ]
  },
  {
   "cell_type": "code",
   "execution_count": 25,
   "metadata": {},
   "outputs": [],
   "source": [
    "data = {'rainfall_inches' : [1.34,1.56,4.33], \n",
    "        'temperature_F':[80,96,75],\n",
    "       'pressure_psi' : [10,2,35]}"
   ]
  },
  {
   "cell_type": "code",
   "execution_count": 26,
   "metadata": {
    "scrolled": true
   },
   "outputs": [
    {
     "name": "stdout",
     "output_type": "stream",
     "text": [
      "{'rainfall_inches': [1.34, 1.56, 4.33], 'temperature_F': [80, 96, 75], 'pressure_psi': [10, 2, 35]}\n"
     ]
    }
   ],
   "source": [
    "print(data)"
   ]
  },
  {
   "cell_type": "code",
   "execution_count": 30,
   "metadata": {},
   "outputs": [
    {
     "ename": "KeyError",
     "evalue": "'1'",
     "output_type": "error",
     "traceback": [
      "\u001b[1;31m---------------------------------------------------------------------------\u001b[0m",
      "\u001b[1;31mKeyError\u001b[0m                                  Traceback (most recent call last)",
      "\u001b[1;32m<ipython-input-30-4e9a22b50e61>\u001b[0m in \u001b[0;36m<module>\u001b[1;34m\u001b[0m\n\u001b[1;32m----> 1\u001b[1;33m \u001b[0mdata\u001b[0m\u001b[1;33m[\u001b[0m\u001b[1;34m\"1\"\u001b[0m\u001b[1;33m]\u001b[0m\u001b[1;33m\u001b[0m\u001b[1;33m\u001b[0m\u001b[0m\n\u001b[0m",
      "\u001b[1;31mKeyError\u001b[0m: '1'"
     ]
    }
   ],
   "source": [
    "#can't print using same syntax as lists\n",
    "data[\"1\"]"
   ]
  },
  {
   "cell_type": "code",
   "execution_count": 44,
   "metadata": {},
   "outputs": [
    {
     "name": "stdout",
     "output_type": "stream",
     "text": [
      "This is the list of rainfall in inches: [1.34, 1.56, 4.33]\n",
      "This is the list of temperature in Farenheit: [80, 96, 75]\n",
      "This is the list of pressure in PSI: [10, 2, 35]\n"
     ]
    }
   ],
   "source": [
    "#in order to print we have to use the name of the variable within the dict within \"\"\n",
    "print (\"This is the list of rainfall in inches:\",data[\"rainfall_inches\"])\n",
    "print ('This is the list of temperature in Farenheit:',data[\"temperature_F\"])\n",
    "print('This is the list of pressure in PSI:',data['pressure_psi'])"
   ]
  },
  {
   "cell_type": "code",
   "execution_count": 50,
   "metadata": {},
   "outputs": [
    {
     "data": {
      "text/plain": [
       "[1.34, 1.56, 4.33]"
      ]
     },
     "execution_count": 50,
     "metadata": {},
     "output_type": "execute_result"
    }
   ],
   "source": [
    "data[\"rainfall_inches\"]"
   ]
  },
  {
   "cell_type": "code",
   "execution_count": 51,
   "metadata": {},
   "outputs": [
    {
     "data": {
      "text/plain": [
       "1.34"
      ]
     },
     "execution_count": 51,
     "metadata": {},
     "output_type": "execute_result"
    }
   ],
   "source": [
    "data[\"rainfall_inches\"][0]"
   ]
  },
  {
   "cell_type": "code",
   "execution_count": 52,
   "metadata": {},
   "outputs": [
    {
     "data": {
      "text/plain": [
       "1.56"
      ]
     },
     "execution_count": 52,
     "metadata": {},
     "output_type": "execute_result"
    }
   ],
   "source": [
    "data[\"rainfall_inches\"][1]"
   ]
  },
  {
   "cell_type": "markdown",
   "metadata": {},
   "source": [
    "# For loops\n",
    "\n",
    "A for loop executes the same command through each value in a collection. \n",
    "\n",
    "Building blocks of a for loop:\n",
    "\n",
    "`for` `each item` `in` `variable` `:`  \n",
    "`(tab)` `do-something`"
   ]
  },
  {
   "cell_type": "code",
   "execution_count": 55,
   "metadata": {},
   "outputs": [
    {
     "data": {
      "text/plain": [
       "range(0, 5)"
      ]
     },
     "execution_count": 55,
     "metadata": {},
     "output_type": "execute_result"
    }
   ],
   "source": [
    "range(5)"
   ]
  },
  {
   "cell_type": "code",
   "execution_count": 56,
   "metadata": {},
   "outputs": [
    {
     "data": {
      "text/plain": [
       "range(0, 5)"
      ]
     },
     "execution_count": 56,
     "metadata": {},
     "output_type": "execute_result"
    }
   ],
   "source": [
    "numbers=range(5)\n",
    "numbers"
   ]
  },
  {
   "cell_type": "code",
   "execution_count": 58,
   "metadata": {},
   "outputs": [
    {
     "name": "stdout",
     "output_type": "stream",
     "text": [
      "0\n",
      "1\n",
      "2\n",
      "3\n",
      "4\n"
     ]
    }
   ],
   "source": [
    "for number in range(5):\n",
    "        print(number)"
   ]
  },
  {
   "cell_type": "code",
   "execution_count": 59,
   "metadata": {},
   "outputs": [
    {
     "data": {
      "text/plain": [
       "['banana', 'lettuce', 'cheese']"
      ]
     },
     "execution_count": 59,
     "metadata": {},
     "output_type": "execute_result"
    }
   ],
   "source": [
    "groceries"
   ]
  },
  {
   "cell_type": "code",
   "execution_count": 60,
   "metadata": {},
   "outputs": [
    {
     "data": {
      "text/plain": [
       "['banana']"
      ]
     },
     "execution_count": 60,
     "metadata": {},
     "output_type": "execute_result"
    }
   ],
   "source": [
    "groceries[0:1] #remember in python we start at 0"
   ]
  },
  {
   "cell_type": "code",
   "execution_count": 61,
   "metadata": {},
   "outputs": [
    {
     "name": "stdout",
     "output_type": "stream",
     "text": [
      "0\n",
      "2\n",
      "4\n",
      "6\n",
      "8\n"
     ]
    }
   ],
   "source": [
    "for number in range(5):\n",
    "    print (number*2)"
   ]
  },
  {
   "cell_type": "code",
   "execution_count": 63,
   "metadata": {
    "scrolled": true
   },
   "outputs": [
    {
     "name": "stdout",
     "output_type": "stream",
     "text": [
      "Loop 0\n",
      "Loop 1\n",
      "Loop 3\n",
      "Loop 6\n",
      "Loop 10\n",
      "10\n"
     ]
    }
   ],
   "source": [
    "total = 0\n",
    "\n",
    "for number in range(5):\n",
    "    total = total+number\n",
    "    print('Loop',total)\n",
    "\n",
    "print(total)"
   ]
  },
  {
   "cell_type": "code",
   "execution_count": 64,
   "metadata": {},
   "outputs": [
    {
     "name": "stdout",
     "output_type": "stream",
     "text": [
      "{'rainfall_inches': [1.34, 1.56, 4.33], 'temperature_F': [80, 96, 75], 'pressure_psi': [10, 2, 35]}\n"
     ]
    }
   ],
   "source": [
    "print(data)"
   ]
  },
  {
   "cell_type": "code",
   "execution_count": 71,
   "metadata": {
    "scrolled": true
   },
   "outputs": [
    {
     "name": "stdout",
     "output_type": "stream",
     "text": [
      "rainfall_inches\n",
      "rain\n",
      "c\n",
      "temperature_F\n",
      "temp\n",
      "r\n",
      "pressure_psi\n",
      "pres\n",
      "_\n"
     ]
    }
   ],
   "source": [
    "for key in data:\n",
    "    print(key)\n",
    "    print(key[0:4])\n",
    "    print(key[-4])#start counting from the end"
   ]
  },
  {
   "cell_type": "code",
   "execution_count": 82,
   "metadata": {
    "scrolled": true
   },
   "outputs": [
    {
     "name": "stdout",
     "output_type": "stream",
     "text": [
      "['rainfall', 'inches']\n",
      "rainfall inches\n",
      "['temperature', 'F']\n",
      "temperature F\n",
      "['pressure', 'psi']\n",
      "pressure psi\n"
     ]
    }
   ],
   "source": [
    "for key in data:\n",
    "    a_list = key.split('_')#if we wanted to store the list\n",
    "    print(key.split('_'))#split got the value in key and split the string at the character we provided '_' the split items are then made into a list\n",
    "    print(' '.join(key.split('_'))) #here we joined the lists with a \" \" in between\n"
   ]
  },
  {
   "cell_type": "code",
   "execution_count": 84,
   "metadata": {},
   "outputs": [
    {
     "name": "stdout",
     "output_type": "stream",
     "text": [
      "['pressure', 'psi']\n"
     ]
    }
   ],
   "source": [
    "print(a_list)#we only get the last one because a_list gets reassigned after each loop. so we only get the last"
   ]
  },
  {
   "cell_type": "code",
   "execution_count": 85,
   "metadata": {},
   "outputs": [],
   "source": [
    "original=\"waterfall\""
   ]
  },
  {
   "cell_type": "code",
   "execution_count": 95,
   "metadata": {},
   "outputs": [
    {
     "name": "stdout",
     "output_type": "stream",
     "text": [
      "l\n",
      "l\n",
      "a\n",
      "f\n",
      "r\n",
      "e\n",
      "t\n",
      "a\n",
      "w\n"
     ]
    }
   ],
   "source": [
    "num=-1\n",
    "#goal is to reverse this word using a loop\n",
    "for char in original:\n",
    "    print(original[num])\n",
    "    num=num-1"
   ]
  },
  {
   "cell_type": "code",
   "execution_count": 101,
   "metadata": {},
   "outputs": [
    {
     "name": "stdout",
     "output_type": "stream",
     "text": [
      "Getting char w\n",
      "Result now is w\n",
      "end of loop\n",
      "\n",
      "Getting char a\n",
      "Result now is aw\n",
      "end of loop\n",
      "\n",
      "Getting char t\n",
      "Result now is taw\n",
      "end of loop\n",
      "\n",
      "Getting char e\n",
      "Result now is etaw\n",
      "end of loop\n",
      "\n",
      "Getting char r\n",
      "Result now is retaw\n",
      "end of loop\n",
      "\n",
      "Getting char f\n",
      "Result now is fretaw\n",
      "end of loop\n",
      "\n",
      "Getting char a\n",
      "Result now is afretaw\n",
      "end of loop\n",
      "\n",
      "Getting char l\n",
      "Result now is lafretaw\n",
      "end of loop\n",
      "\n",
      "Getting char l\n",
      "Result now is llafretaw\n",
      "end of loop\n",
      "\n",
      "llafretaw\n"
     ]
    }
   ],
   "source": [
    "result=''\n",
    "\n",
    "for char in original:\n",
    "    print('Getting char',char)\n",
    "    result= char + result\n",
    "    print('Result now is', result)\n",
    "    print(\"end of loop\")\n",
    "    print(\"\")\n",
    "    \n",
    "print(result)\n",
    "    "
   ]
  },
  {
   "cell_type": "code",
   "execution_count": 103,
   "metadata": {},
   "outputs": [
    {
     "data": {
      "text/plain": [
       "'llafretaw'"
      ]
     },
     "execution_count": 103,
     "metadata": {},
     "output_type": "execute_result"
    }
   ],
   "source": [
    "original [::-1]"
   ]
  },
  {
   "cell_type": "code",
   "execution_count": null,
   "metadata": {},
   "outputs": [],
   "source": []
  }
 ],
 "metadata": {
  "kernelspec": {
   "display_name": "Python 3",
   "language": "python",
   "name": "python3"
  },
  "language_info": {
   "codemirror_mode": {
    "name": "ipython",
    "version": 3
   },
   "file_extension": ".py",
   "mimetype": "text/x-python",
   "name": "python",
   "nbconvert_exporter": "python",
   "pygments_lexer": "ipython3",
   "version": "3.7.4"
  }
 },
 "nbformat": 4,
 "nbformat_minor": 2
}
